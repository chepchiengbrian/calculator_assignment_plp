{
  "nbformat": 4,
  "nbformat_minor": 0,
  "metadata": {
    "colab": {
      "provenance": [],
      "authorship_tag": "ABX9TyMV20hZimDDHTMBndnLILLH",
      "include_colab_link": true
    },
    "kernelspec": {
      "name": "python3",
      "display_name": "Python 3"
    },
    "language_info": {
      "name": "python"
    }
  },
  "cells": [
    {
      "cell_type": "markdown",
      "metadata": {
        "id": "view-in-github",
        "colab_type": "text"
      },
      "source": [
        "<a href=\"https://colab.research.google.com/github/chepchiengbrian/calculator_assignment_plp/blob/main/calculator.ipynb\" target=\"_parent\"><img src=\"https://colab.research.google.com/assets/colab-badge.svg\" alt=\"Open In Colab\"/></a>"
      ]
    },
    {
      "cell_type": "markdown",
      "source": [
        "**CALCULATOR**\n",
        "\n",
        "---\n",
        "\n"
      ],
      "metadata": {
        "id": "1NrWEw2d12mp"
      }
    },
    {
      "source": [
        "def add(a,b):\n",
        "    return a+b\n",
        "def subract(a,b):\n",
        "    return a-b\n",
        "def multiply(a,b):\n",
        "     return a*b\n",
        "def division(a,b):\n",
        "    return a/b\n",
        "\n",
        "operators = {\n",
        "\"+\": add,\n",
        "\"-\": subract,\n",
        "\"*\": multiply,\n",
        "\"/\": division\n",
        "}\n",
        "num1=float(input(\"Enter the first number:\"))\n",
        "num2=float(input(\"Enter the second number:\"))\n",
        "for symbol in operators:\n",
        "    print(symbol)\n",
        "operation_symbol= input(\"choose an operator for you task\")\n",
        "\n",
        "calculator_function=operators[operation_symbol]\n",
        "output=calculator_function(num1,num2)\n",
        "print(f\"{num1} {operation_symbol} {num2}={output}\")\n"
      ],
      "cell_type": "code",
      "metadata": {
        "colab": {
          "base_uri": "https://localhost:8080/"
        },
        "id": "7pA6y8e1xjbc",
        "outputId": "a18a2a38-3e7f-4845-f838-57584dbdc9ef"
      },
      "execution_count": null,
      "outputs": [
        {
          "output_type": "stream",
          "name": "stdout",
          "text": [
            "Enter the first number:10\n",
            "Enter the second number:5\n",
            "+\n",
            "-\n",
            "*\n",
            "/\n",
            "choose an operator for you task+\n",
            "10.0 + 5.0=15.0\n"
          ]
        }
      ]
    }
  ]
}